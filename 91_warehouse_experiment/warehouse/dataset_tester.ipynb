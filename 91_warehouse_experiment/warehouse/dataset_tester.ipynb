{
 "cells": [
  {
   "cell_type": "code",
   "id": "initial_id",
   "metadata": {
    "collapsed": true,
    "ExecuteTime": {
     "end_time": "2025-01-29T17:44:39.891254Z",
     "start_time": "2025-01-29T17:44:39.507286Z"
    }
   },
   "source": [
    "from utils.lidar_dataset_reader import load_to_memory\n",
    "from utils.misc import resource_exists, log, create_lock\n",
    "import math"
   ],
   "outputs": [],
   "execution_count": 2
  },
  {
   "metadata": {
    "ExecuteTime": {
     "end_time": "2025-01-29T17:46:52.608736Z",
     "start_time": "2025-01-29T17:46:47.476969Z"
    }
   },
   "cell_type": "code",
   "source": [
    "all_sensor_data = load_to_memory(\"../datasets/robots-6_points-1000.hdf5\")\n",
    "target_mbps = 1\n",
    "num_threads = 6\n",
    "duration_seconds = 2000\n",
    "num_sensors = len(all_sensor_data)\n",
    "example_frame = all_sensor_data[0][0]\n",
    "elements_per_frame = example_frame.data.size\n",
    "bytes_per_frame = example_frame.data.nbytes\n",
    "events_per_second = (target_mbps * 1024 * 1024) / bytes_per_frame\n",
    "time_between_events = (1 / (events_per_second / num_threads))\n",
    "total_items = duration_seconds * events_per_second\n",
    "items_per_thread = math.ceil(total_items / num_threads)"
   ],
   "id": "4ec50c9d98a25c9",
   "outputs": [
    {
     "name": "stdout",
     "output_type": "stream",
     "text": [
      "Sensor robot_1: 13.73 MB\n",
      "Sensor robot_2: 13.73 MB\n",
      "Sensor robot_3: 13.73 MB\n",
      "Sensor robot_4: 13.73 MB\n",
      "Sensor robot_5: 13.73 MB\n",
      "Sensor robot_6: 13.73 MB\n"
     ]
    }
   ],
   "execution_count": 7
  },
  {
   "metadata": {},
   "cell_type": "code",
   "outputs": [],
   "execution_count": null,
   "source": "",
   "id": "e7db4c4a2bb1a0b1"
  }
 ],
 "metadata": {
  "kernelspec": {
   "display_name": "Python 3",
   "language": "python",
   "name": "python3"
  },
  "language_info": {
   "codemirror_mode": {
    "name": "ipython",
    "version": 2
   },
   "file_extension": ".py",
   "mimetype": "text/x-python",
   "name": "python",
   "nbconvert_exporter": "python",
   "pygments_lexer": "ipython2",
   "version": "2.7.6"
  }
 },
 "nbformat": 4,
 "nbformat_minor": 5
}
